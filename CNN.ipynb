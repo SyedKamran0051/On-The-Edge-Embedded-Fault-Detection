{
 "cells": [
  {
   "cell_type": "code",
   "execution_count": 1,
   "metadata": {},
   "outputs": [],
   "source": [
    "import numpy as np\n",
    "import pandas as pd\n",
    "from tqdm import tqdm\n",
    "import tensorflow as tf\n",
    "import matplotlib.pylab as plt\n",
    "from sklearn.preprocessing import MinMaxScaler\n",
    "from sklearn.model_selection import train_test_split"
   ]
  },
  {
   "cell_type": "code",
   "execution_count": 2,
   "metadata": {},
   "outputs": [
    {
     "name": "stdout",
     "output_type": "stream",
     "text": [
      "['data', 'labels']\n"
     ]
    }
   ],
   "source": [
    "compressed_files = np.load('CWRU_48k_load_1_CNN_data.npz')\n",
    "print(compressed_files.files)"
   ]
  },
  {
   "cell_type": "code",
   "execution_count": 3,
   "metadata": {},
   "outputs": [
    {
     "name": "stdout",
     "output_type": "stream",
     "text": [
      "size of array classes: (4600,)\n",
      "\n",
      "size of array data: (4600, 32, 32)\n",
      "\n",
      "random classes  ['Ball_007' 'Ball_007' 'Ball_007' ... 'Normal' 'Normal' 'Normal']\n",
      "\n",
      "unique labels ['Ball_007' 'Ball_014' 'Ball_021' 'IR_007' 'IR_014' 'IR_021' 'Normal'\n",
      " 'OR_007' 'OR_014' 'OR_021']\n",
      "[0 0 0 ... 6 6 6]\n"
     ]
    }
   ],
   "source": [
    "classes_orig = compressed_files['labels']\n",
    "data = compressed_files['data']\n",
    "print('size of array classes:',classes_orig.shape)\n",
    "print()\n",
    "print('size of array data:',data.shape)\n",
    "print()\n",
    "print('random classes ',classes_orig)\n",
    "print()\n",
    "unique_classes = np.unique(classes_orig)\n",
    "print('unique labels',unique_classes)\n",
    "\n",
    "# ENCODING + catogarizing classes acccording to their unique labels  \n",
    "classes = pd.Categorical(classes_orig, categories=unique_classes).codes\n",
    "print(classes)"
   ]
  },
  {
   "cell_type": "code",
   "execution_count": 4,
   "metadata": {},
   "outputs": [],
   "source": [
    "data_train, data_test, classes_train, classes_test = train_test_split(data,classes, test_size=0.2, random_state=729,stratify=classes)\n",
    "\n",
    "#for cross validation check dividing training data again\n",
    "\n",
    "data_train, data_valid, classes_train, classes_valid = train_test_split(data_train,classes_train, test_size=0.2, random_state=342,stratify=classes_train)\n"
   ]
  },
  {
   "cell_type": "code",
   "execution_count": 5,
   "metadata": {},
   "outputs": [
    {
     "name": "stdout",
     "output_type": "stream",
     "text": [
      "training data shape:  (2944, 32, 32, 1)\n",
      "validation data shape:  (736, 32, 32, 1)\n",
      "testing data shape:  (920, 32, 32, 1)\n",
      "training classes shape:  (2944, 10)\n",
      "validation classes shape:  (736, 10)\n",
      "testing classes shape:  (920, 10)\n"
     ]
    }
   ],
   "source": [
    "# reshaping data\n",
    "data_train = data_train.reshape(-1,32,32,1)\n",
    "data_valid = data_valid.reshape(len(data_valid),32,32,1)\n",
    "data_test = data_test.reshape(-1,32,32,1)\n",
    "\n",
    "from keras.utils import to_categorical\n",
    "classes_train = to_categorical(classes_train)\n",
    "classes_test = to_categorical(classes_test)\n",
    "classes_valid = to_categorical(classes_valid)\n",
    "\n",
    "# Shuffling our data\n",
    "index = np.random.permutation(len(classes_train))\n",
    "data_train, classes_train = data_train[index], classes_train[index]\n",
    "\n",
    "print('training data shape: ', data_train.shape)\n",
    "print('validation data shape: ', data_valid.shape)\n",
    "print('testing data shape: ', data_test.shape)\n",
    "print('training classes shape: ', classes_train.shape)\n",
    "print('validation classes shape: ', classes_valid.shape)\n",
    "print('testing classes shape: ', classes_test.shape)\n",
    "\n"
   ]
  },
  {
   "cell_type": "code",
   "execution_count": 16,
   "metadata": {},
   "outputs": [],
   "source": [
    "#reshaping\n",
    "Valid_data = data_valid.reshape(-1,32)  \n",
    "dataframe = pd.DataFrame(classes_valid)\n",
    "dataframe2 =  pd.DataFrame(Valid_data)\n",
    "dataframe.to_csv('labels.csv',index=False)\n",
    "dataframe2.to_csv('data.csv',index=False)\n",
    "\n",
    "\n"
   ]
  },
  {
   "cell_type": "code",
   "execution_count": 21,
   "metadata": {},
   "outputs": [],
   "source": [
    "\n",
    "from tensorflow import keras\n",
    "from tensorflow.keras.models import Sequential\n",
    "from tensorflow.keras.layers import Dense, Dropout, LSTM, SimpleRNN, Conv2D, MaxPooling2D, Flatten"
   ]
  },
  {
   "cell_type": "code",
   "execution_count": 22,
   "metadata": {},
   "outputs": [
    {
     "name": "stdout",
     "output_type": "stream",
     "text": [
      "Model: \"sequential_1\"\n",
      "_________________________________________________________________\n",
      "Layer (type)                 Output Shape              Param #   \n",
      "=================================================================\n",
      "conv2d_2 (Conv2D)            (None, 24, 24, 32)        2624      \n",
      "_________________________________________________________________\n",
      "max_pooling2d_2 (MaxPooling2 (None, 12, 12, 32)        0         \n",
      "_________________________________________________________________\n",
      "conv2d_3 (Conv2D)            (None, 4, 4, 32)          82976     \n",
      "_________________________________________________________________\n",
      "dropout_1 (Dropout)          (None, 4, 4, 32)          0         \n",
      "_________________________________________________________________\n",
      "max_pooling2d_3 (MaxPooling2 (None, 2, 2, 32)          0         \n",
      "_________________________________________________________________\n",
      "flatten_1 (Flatten)          (None, 128)               0         \n",
      "_________________________________________________________________\n",
      "dense_3 (Dense)              (None, 64)                8256      \n",
      "_________________________________________________________________\n",
      "dense_4 (Dense)              (None, 96)                6240      \n",
      "_________________________________________________________________\n",
      "dense_5 (Dense)              (None, 10)                970       \n",
      "=================================================================\n",
      "Total params: 101,066\n",
      "Trainable params: 101,066\n",
      "Non-trainable params: 0\n",
      "_________________________________________________________________\n"
     ]
    }
   ],
   "source": [
    "model = Sequential()\n",
    "model.add(Conv2D(filters=32, kernel_size=9, activation='relu', input_shape = (32,32,1)))\n",
    "model.add(MaxPooling2D(pool_size=2))\n",
    "model.add(Conv2D(filters=32, kernel_size=9, activation='relu'))\n",
    "model.add(Dropout(0.1))\n",
    "model.add(MaxPooling2D(pool_size=2))\n",
    "model.add(Flatten())\n",
    "model.add(Dense(64, activation='relu'))\n",
    "model.add(Dense(96, activation='relu'))\n",
    "model.add(Dense(10, activation='softmax'))\n",
    "model.summary()"
   ]
  },
  {
   "cell_type": "code",
   "execution_count": 31,
   "metadata": {},
   "outputs": [
    {
     "name": "stdout",
     "output_type": "stream",
     "text": [
      "Epoch 1/30\n",
      "23/23 [==============================] - 2s 83ms/step - loss: 0.0516 - accuracy: 0.9803 - val_loss: 0.0997 - val_accuracy: 0.9728\n",
      "Epoch 2/30\n",
      "23/23 [==============================] - 1s 62ms/step - loss: 0.0306 - accuracy: 0.9915 - val_loss: 0.1303 - val_accuracy: 0.9579\n",
      "Epoch 3/30\n",
      "23/23 [==============================] - 1s 64ms/step - loss: 0.0234 - accuracy: 0.9939 - val_loss: 0.0912 - val_accuracy: 0.9728\n",
      "Epoch 4/30\n",
      "23/23 [==============================] - 1s 64ms/step - loss: 0.0180 - accuracy: 0.9946 - val_loss: 0.1093 - val_accuracy: 0.9701\n",
      "Epoch 5/30\n",
      "23/23 [==============================] - 2s 76ms/step - loss: 0.0225 - accuracy: 0.9929 - val_loss: 0.1027 - val_accuracy: 0.9674\n",
      "Epoch 6/30\n",
      "23/23 [==============================] - 2s 93ms/step - loss: 0.0154 - accuracy: 0.9966 - val_loss: 0.0815 - val_accuracy: 0.9742\n",
      "Epoch 7/30\n",
      "23/23 [==============================] - 2s 83ms/step - loss: 0.0106 - accuracy: 0.9980 - val_loss: 0.0965 - val_accuracy: 0.9715\n",
      "Epoch 8/30\n",
      "23/23 [==============================] - 2s 73ms/step - loss: 0.0135 - accuracy: 0.9963 - val_loss: 0.0845 - val_accuracy: 0.9796\n",
      "Epoch 9/30\n",
      "23/23 [==============================] - 2s 86ms/step - loss: 0.0113 - accuracy: 0.9969 - val_loss: 0.0886 - val_accuracy: 0.9810\n",
      "Epoch 10/30\n",
      "23/23 [==============================] - 2s 86ms/step - loss: 0.0078 - accuracy: 0.9986 - val_loss: 0.0967 - val_accuracy: 0.9742\n",
      "Epoch 11/30\n",
      "23/23 [==============================] - 2s 74ms/step - loss: 0.0563 - accuracy: 0.9810 - val_loss: 0.1411 - val_accuracy: 0.9715\n",
      "Epoch 12/30\n",
      "23/23 [==============================] - 2s 80ms/step - loss: 0.1402 - accuracy: 0.9728 - val_loss: 0.7806 - val_accuracy: 0.8356\n",
      "Epoch 13/30\n",
      "23/23 [==============================] - 2s 70ms/step - loss: 0.2539 - accuracy: 0.9327 - val_loss: 0.1346 - val_accuracy: 0.9620\n",
      "Epoch 14/30\n",
      "23/23 [==============================] - 1s 64ms/step - loss: 0.0284 - accuracy: 0.9929 - val_loss: 0.1086 - val_accuracy: 0.9701\n",
      "Epoch 15/30\n",
      "23/23 [==============================] - 1s 63ms/step - loss: 0.0138 - accuracy: 0.9966 - val_loss: 0.1001 - val_accuracy: 0.9728\n",
      "Epoch 16/30\n",
      "23/23 [==============================] - 1s 55ms/step - loss: 0.0099 - accuracy: 0.9990 - val_loss: 0.0939 - val_accuracy: 0.9769\n",
      "Epoch 17/30\n",
      "23/23 [==============================] - 1s 57ms/step - loss: 0.0073 - accuracy: 0.9990 - val_loss: 0.0920 - val_accuracy: 0.9783\n",
      "Epoch 18/30\n",
      "23/23 [==============================] - 1s 61ms/step - loss: 0.0072 - accuracy: 0.9993 - val_loss: 0.0891 - val_accuracy: 0.9796\n",
      "Epoch 19/30\n",
      "23/23 [==============================] - 1s 65ms/step - loss: 0.0055 - accuracy: 0.9997 - val_loss: 0.0866 - val_accuracy: 0.9796\n",
      "Epoch 20/30\n",
      "23/23 [==============================] - 1s 63ms/step - loss: 0.0047 - accuracy: 0.9997 - val_loss: 0.0870 - val_accuracy: 0.9796\n",
      "Epoch 21/30\n",
      "23/23 [==============================] - 2s 72ms/step - loss: 0.0044 - accuracy: 0.9997 - val_loss: 0.0871 - val_accuracy: 0.9796\n",
      "Epoch 22/30\n",
      "23/23 [==============================] - 1s 60ms/step - loss: 0.0037 - accuracy: 0.9997 - val_loss: 0.0863 - val_accuracy: 0.9810\n",
      "Epoch 23/30\n",
      "23/23 [==============================] - 1s 65ms/step - loss: 0.0029 - accuracy: 0.9997 - val_loss: 0.0866 - val_accuracy: 0.9796\n",
      "Epoch 24/30\n",
      "23/23 [==============================] - 2s 66ms/step - loss: 0.0032 - accuracy: 0.9997 - val_loss: 0.0903 - val_accuracy: 0.9810\n",
      "Epoch 25/30\n",
      "23/23 [==============================] - 1s 62ms/step - loss: 0.0027 - accuracy: 0.9997 - val_loss: 0.0898 - val_accuracy: 0.9810\n",
      "Epoch 26/30\n",
      "23/23 [==============================] - 2s 83ms/step - loss: 0.0022 - accuracy: 0.9997 - val_loss: 0.0890 - val_accuracy: 0.9796\n",
      "Epoch 27/30\n",
      "23/23 [==============================] - 2s 79ms/step - loss: 0.0020 - accuracy: 1.0000 - val_loss: 0.0911 - val_accuracy: 0.9810\n",
      "Epoch 28/30\n",
      "23/23 [==============================] - 2s 71ms/step - loss: 0.0018 - accuracy: 1.0000 - val_loss: 0.0946 - val_accuracy: 0.9796\n",
      "Epoch 29/30\n",
      "23/23 [==============================] - 2s 69ms/step - loss: 0.0019 - accuracy: 1.0000 - val_loss: 0.0901 - val_accuracy: 0.9796\n",
      "Epoch 30/30\n",
      "23/23 [==============================] - 2s 69ms/step - loss: 0.0016 - accuracy: 1.0000 - val_loss: 0.0920 - val_accuracy: 0.9796\n"
     ]
    }
   ],
   "source": [
    "model.compile(loss='categorical_crossentropy', optimizer='adam',metrics=['accuracy'])\n",
    "\n",
    "N_Network = model.fit(data_train , classes_train, epochs=30, batch_size=128, validation_data=(data_valid, classes_valid)) \n"
   ]
  },
  {
   "cell_type": "code",
   "execution_count": 32,
   "metadata": {},
   "outputs": [],
   "source": [
    "model.save(\"raw_cnn.h5\")"
   ]
  },
  {
   "cell_type": "code",
   "execution_count": 33,
   "metadata": {},
   "outputs": [
    {
     "name": "stdout",
     "output_type": "stream",
     "text": [
      "0.18387579917907715\n"
     ]
    }
   ],
   "source": [
    "\n",
    "import time\n",
    "\n",
    "start = time.time()\n",
    "model.evaluate(data_test,classes_test, batch_size = 128, verbose = 0)\n",
    "end = time.time()\n",
    "print(end - start)\n"
   ]
  },
  {
   "cell_type": "code",
   "execution_count": 34,
   "metadata": {},
   "outputs": [
    {
     "data": {
      "text/plain": [
       "[0.06548968702554703, 0.9858695864677429]"
      ]
     },
     "execution_count": 34,
     "metadata": {},
     "output_type": "execute_result"
    }
   ],
   "source": [
    "model.evaluate(data_test,classes_test, batch_size = 128, verbose = 0)"
   ]
  },
  {
   "cell_type": "code",
   "execution_count": 26,
   "metadata": {},
   "outputs": [],
   "source": [
    "prediction = model.predict(data_test)\n",
    "prediction_classes = list([])\n",
    "for each_prediction in prediction:\n",
    "    prediction_classes.append(list(each_prediction).index(max(each_prediction)))"
   ]
  },
  {
   "cell_type": "code",
   "execution_count": 27,
   "metadata": {},
   "outputs": [
    {
     "data": {
      "image/png": "[encoded data removed]",
      "text/plain": [
       "<Figure size 432x288 with 1 Axes>"
      ]
     },
     "metadata": {
      "needs_background": "light"
     },
     "output_type": "display_data"
    }
   ],
   "source": [
    "from sklearn.metrics import confusion_matrix\n",
    "true_classes = np.argmax(classes_test, axis = 1)\n",
    "matrix = confusion_matrix(true_classes, prediction_classes)\n",
    "\n",
    "import seaborn as sns\n",
    "matrix = pd.DataFrame(matrix)\n",
    "plt.figure()\n",
    "sns.heatmap(matrix, annot= True, fmt = \"d\",\n",
    "           xticklabels = unique_classes,\n",
    "           yticklabels = unique_classes, cmap = \"Blues\", cbar = False)\n",
    "plt.xticks()\n",
    "plt.show()\n",
    "\n"
   ]
  },
  {
   "cell_type": "code",
   "execution_count": 28,
   "metadata": {},
   "outputs": [
    {
     "data": {
      "image/png": "[encoded data removed]",
      "text/plain": [
       "<Figure size 432x288 with 1 Axes>"
      ]
     },
     "metadata": {
      "needs_background": "light"
     },
     "output_type": "display_data"
    }
   ],
   "source": [
    "plt.plot(N_Network.history['accuracy'])\n",
    "plt.plot(N_Network.history['val_accuracy'])\n",
    "plt.title('model accuracy')\n",
    "plt.ylabel('accuracy')\n",
    "plt.xlabel('epoch')\n",
    "plt.legend(['train', 'test'], loc='upper left')\n",
    "plt.show()"
   ]
  },
  {
   "cell_type": "code",
   "execution_count": 29,
   "metadata": {},
   "outputs": [
    {
     "data": {
      "image/png": "[encoded data removed]",
      "text/plain": [
       "<Figure size 432x288 with 1 Axes>"
      ]
     },
     "metadata": {
      "needs_background": "light"
     },
     "output_type": "display_data"
    }
   ],
   "source": [
    "# summarize history for loss\n",
    "plt.plot(N_Network.history['loss'])\n",
    "plt.plot(N_Network.history['val_loss'])\n",
    "plt.title('model loss')\n",
    "plt.ylabel('loss')\n",
    "plt.xlabel('epoch')\n",
    "plt.legend(['train', 'test'], loc='upper left')\n",
    "plt.show()"
   ]
  }
 ],
 "metadata": {
  "interpreter": {
   "hash": "2444bfd887cfa3ddb1bbe29238eb5ca6467380079196028fbc3e19d2654c5eaf"
  },
  "kernelspec": {
   "display_name": "Python 3.8.10 64-bit ('sum_int': conda)",
   "name": "python3"
  },
  "language_info": {
   "codemirror_mode": {
    "name": "ipython",
    "version": 3
   },
   "file_extension": ".py",
   "mimetype": "text/x-python",
   "name": "python",
   "nbconvert_exporter": "python",
   "pygments_lexer": "ipython3",
   "version": "3.8.10"
  },
  "orig_nbformat": 4
 },
 "nbformat": 4,
 "nbformat_minor": 2
}
